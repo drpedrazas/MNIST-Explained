{
 "cells": [
  {
   "cell_type": "code",
   "execution_count": 16,
   "id": "fa81e68b",
   "metadata": {},
   "outputs": [],
   "source": [
    "from tensorflow import keras\n",
    "from scipy import special\n",
    "import scipy\n",
    "import numpy as np\n",
    "import numpy as np\n",
    "import matplotlib.pyplot as plt"
   ]
  },
  {
   "cell_type": "code",
   "execution_count": 17,
   "id": "351061d2",
   "metadata": {},
   "outputs": [],
   "source": [
    "(train_data, train_label), (test_data, test_label) = keras.datasets.mnist.load_data()"
   ]
  },
  {
   "cell_type": "code",
   "execution_count": 18,
   "id": "7b7b512b",
   "metadata": {},
   "outputs": [
    {
     "name": "stdout",
     "output_type": "stream",
     "text": [
      "Train data: (60000, 28, 28)\n",
      "Train labels: (60000,)\n",
      "Test data:  (10000, 28, 28)\n",
      "Test labels:  (10000,)\n"
     ]
    }
   ],
   "source": [
    "print('Train data: ' + str(train_data.shape))\n",
    "print('Train labels: ' + str(train_label.shape))\n",
    "print('Test data:  '  + str(test_data.shape))\n",
    "print('Test labels:  '  + str(test_label.shape))"
   ]
  },
  {
   "cell_type": "code",
   "execution_count": 19,
   "id": "6bbccd31",
   "metadata": {},
   "outputs": [
    {
     "data": {
      "image/png": "[encoded data removed]",
      "text/plain": [
       "<Figure size 432x288 with 2 Axes>"
      ]
     },
     "metadata": {
      "needs_background": "light"
     },
     "output_type": "display_data"
    },
    {
     "data": {
      "image/png": "[encoded data removed]",
      "text/plain": [
       "<Figure size 432x288 with 2 Axes>"
      ]
     },
     "metadata": {
      "needs_background": "light"
     },
     "output_type": "display_data"
    }
   ],
   "source": [
    "plt.imshow(train_data[45])\n",
    "plt.colorbar()\n",
    "plt.show()\n",
    "plt.imshow(train_data[45] > 0)\n",
    "plt.colorbar()\n",
    "plt.show()"
   ]
  },
  {
   "cell_type": "code",
   "execution_count": 20,
   "id": "001bd607",
   "metadata": {},
   "outputs": [
    {
     "name": "stdout",
     "output_type": "stream",
     "text": [
      "9\n"
     ]
    }
   ],
   "source": [
    "print(train_label[45])"
   ]
  },
  {
   "cell_type": "code",
   "execution_count": 21,
   "id": "067d6090",
   "metadata": {},
   "outputs": [
    {
     "name": "stdout",
     "output_type": "stream",
     "text": [
      "[0 0 0 0 0 0 0 0 0 1]\n"
     ]
    }
   ],
   "source": [
    "train_label_vector = np.array([[int(j == i) for j in range(10)] for i in train_label])\n",
    "print(train_label_vector[45])"
   ]
  },
  {
   "cell_type": "code",
   "execution_count": 26,
   "id": "c55aa2bc",
   "metadata": {},
   "outputs": [
    {
     "name": "stdout",
     "output_type": "stream",
     "text": [
      "Acc: 88.59%\n",
      "Acc: 91.75%\n",
      "Acc: 92.45%\n"
     ]
    }
   ],
   "source": [
    "w_i_h = np.random.uniform(-0.5, 0.5, (20, 784)) #weight input hidden\n",
    "w_h_o = np.random.uniform(-0.5, 0.5, (10, 20)) #wheight hidden output\n",
    "b_i_h = np.zeros((20, 1)) # bias input hidden\n",
    "b_h_o = np.zeros((10, 1)) #bias hidden output\n",
    "\n",
    "lr = 0.05 #learning rate\n",
    "nr_correct = 0\n",
    "epochs = 3\n",
    "#train_data = train_data > 0\n",
    "train_data = train_data.reshape((60000, 28*28,1))\n",
    "train_data = train_data > 0\n",
    "train_label_vector = train_label_vector.reshape((60000,10,1))\n",
    "for epoch in range(epochs):\n",
    "    for img, l in zip(train_data, train_label_vector):\n",
    "        h_pre = b_i_h + w_i_h @ img\n",
    "        h = 1 / (1 + np.exp(-h_pre))\n",
    "        o_pre = b_h_o + w_h_o @ h\n",
    "        o = 1 / (1 + np.exp(-o_pre))\n",
    "        e = 1 / len(o) * np.sum((o - l) ** 2, axis=0)\n",
    "        nr_correct += int(np.argmax(o) == np.argmax(l))\n",
    "        delta_o = o - l\n",
    "        w_h_o += -lr * delta_o @ np.transpose(h)\n",
    "        b_h_o += -lr * delta_o\n",
    "        # Backpropagation hidden -> input (activation function derivative)\n",
    "        delta_h = np.transpose(w_h_o) @ delta_o * (h * (1 - h))\n",
    "        w_i_h += -lr * delta_h @ np.transpose(img)\n",
    "        b_i_h += -lr * delta_h\n",
    "    print(f\"Acc: {round((nr_correct / train_data.shape[0]) * 100, 2)}%\")\n",
    "    nr_correct = 0"
   ]
  },
  {
   "cell_type": "code",
   "execution_count": null,
   "id": "0baea7ad",
   "metadata": {},
   "outputs": [],
   "source": [
    "while True:\n",
    "    index = int(input(\"Introduzca un número en este rango (0 - 10000): \"))\n",
    "    img = test_data[index]\n",
    "    plt.imshow(img.reshape(28, 28))\n",
    "    # Forward propagation input -> hidden\n",
    "    h_pre = b_i_h + w_i_h @ img.reshape(784, 1)\n",
    "    h = 1 / (1 + np.exp(-h_pre))\n",
    "    # Forward propagation hidden -> output\n",
    "    o_pre = b_h_o + w_h_o @ h\n",
    "    o = 1 / (1 + np.exp(-o_pre))\n",
    "\n",
    "    plt.title(f\"Result is: {o.argmax()}\")\n",
    "    plt.show()"
   ]
  },
  {
   "cell_type": "code",
   "execution_count": null,
   "id": "d0959777",
   "metadata": {},
   "outputs": [],
   "source": []
  }
 ],
 "metadata": {
  "kernelspec": {
   "display_name": "Python 3",
   "language": "python",
   "name": "python3"
  },
  "language_info": {
   "codemirror_mode": {
    "name": "ipython",
    "version": 3
   },
   "file_extension": ".py",
   "mimetype": "text/x-python",
   "name": "python",
   "nbconvert_exporter": "python",
   "pygments_lexer": "ipython3",
   "version": "3.8.8"
  }
 },
 "nbformat": 4,
 "nbformat_minor": 5
}
